{
 "cells": [
  {
   "cell_type": "code",
   "execution_count": 1,
   "id": "c560c1ee",
   "metadata": {},
   "outputs": [
    {
     "name": "stdout",
     "output_type": "stream",
     "text": [
      "no. is odd!\n"
     ]
    }
   ],
   "source": [
    "\n",
    "n=5\n",
    "if n%2==0:\n",
    "    print(\"no. is even!\")\n",
    "else:\n",
    "          print(\"no. is odd!\")"
   ]
  },
  {
   "cell_type": "code",
   "execution_count": 8,
   "id": "9ef6284d",
   "metadata": {},
   "outputs": [
    {
     "ename": "SyntaxError",
     "evalue": "invalid syntax (594707272.py, line 1)",
     "output_type": "error",
     "traceback": [
      "\u001b[1;36m  Input \u001b[1;32mIn [8]\u001b[1;36m\u001b[0m\n\u001b[1;33m    import.random()\u001b[0m\n\u001b[1;37m          ^\u001b[0m\n\u001b[1;31mSyntaxError\u001b[0m\u001b[1;31m:\u001b[0m invalid syntax\n"
     ]
    }
   ],
   "source": [
    "import.random()\n",
    "\n"
   ]
  },
  {
   "cell_type": "code",
   "execution_count": 11,
   "id": "cb040299",
   "metadata": {},
   "outputs": [
    {
     "name": "stdout",
     "output_type": "stream",
     "text": [
      "10000\n",
      "10201\n",
      "10404\n",
      "10609\n",
      "10816\n",
      "11025\n",
      "11236\n",
      "11449\n",
      "11664\n",
      "11881\n",
      "12100\n",
      "12321\n",
      "12544\n",
      "12769\n",
      "12996\n",
      "13225\n",
      "13456\n",
      "13689\n",
      "13924\n",
      "14161\n",
      "14400\n",
      "14641\n",
      "14884\n",
      "15129\n",
      "15376\n",
      "15625\n",
      "15876\n",
      "16129\n",
      "16384\n",
      "16641\n",
      "16900\n",
      "17161\n",
      "17424\n",
      "17689\n",
      "17956\n",
      "18225\n",
      "18496\n",
      "18769\n",
      "19044\n",
      "19321\n",
      "19600\n",
      "19881\n",
      "20164\n",
      "20449\n",
      "20736\n",
      "21025\n",
      "21316\n",
      "21609\n",
      "21904\n",
      "22201\n"
     ]
    }
   ],
   "source": [
    "for i in range(100,150,1):\n",
    "    print(i**2)"
   ]
  },
  {
   "cell_type": "code",
   "execution_count": null,
   "id": "ff2fff56",
   "metadata": {},
   "outputs": [],
   "source": [
    "name= \"PRITHU\"\n",
    "for letter in name:\n",
    "    print(letter.lower())"
   ]
  },
  {
   "cell_type": "code",
   "execution_count": null,
   "id": "3beb0746",
   "metadata": {},
   "outputs": [],
   "source": [
    "\n",
    "for day_number, day_name in day.item():\n",
    "    print(f\"{day_name} is day number {day_number}\")"
   ]
  },
  {
   "cell_type": "code",
   "execution_count": null,
   "id": "45385d90",
   "metadata": {},
   "outputs": [],
   "source": [
    "summ=0\n",
    "for i in range(5,10,1):\n",
    "    summ +=i\n",
    "    print(f\"the total is {summ}!\")"
   ]
  },
  {
   "cell_type": "code",
   "execution_count": null,
   "id": "1e202d11",
   "metadata": {},
   "outputs": [],
   "source": [
    "# print all the letters that are not \"k\" \"Ikakmkakwkekskokmke\"\n",
    "word= Ikakmkakwkekskokmke\n",
    "for letter in word:\n",
    "    if letter=='k':\n",
    "    continue\n",
    "    else:\n",
    "        print(letter)"
   ]
  },
  {
   "cell_type": "code",
   "execution_count": null,
   "id": "10dcc41a",
   "metadata": {},
   "outputs": [],
   "source": []
  }
 ],
 "metadata": {
  "kernelspec": {
   "display_name": "Python 3 (ipykernel)",
   "language": "python",
   "name": "python3"
  },
  "language_info": {
   "codemirror_mode": {
    "name": "ipython",
    "version": 3
   },
   "file_extension": ".py",
   "mimetype": "text/x-python",
   "name": "python",
   "nbconvert_exporter": "python",
   "pygments_lexer": "ipython3",
   "version": "3.9.12"
  }
 },
 "nbformat": 4,
 "nbformat_minor": 5
}
