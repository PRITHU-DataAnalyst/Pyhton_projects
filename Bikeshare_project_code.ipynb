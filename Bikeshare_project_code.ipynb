{
 "cells": [
  {
   "cell_type": "markdown",
   "id": "e89e6016",
   "metadata": {},
   "source": [
    "# Precourse: Bikeshare_Project"
   ]
  },
  {
   "cell_type": "code",
   "execution_count": 11,
   "id": "14294b78",
   "metadata": {},
   "outputs": [],
   "source": [
    "#Import Libraries\n",
    "\n",
    "import time\n",
    "import pandas as pd\n",
    "import numpy as np"
   ]
  },
  {
   "cell_type": "code",
   "execution_count": 12,
   "id": "36e7491a",
   "metadata": {},
   "outputs": [],
   "source": [
    "#Import CSV files\n",
    "#Data stucture\n",
    "\n",
    "CITY_DATA = { 'chicago': 'chicago.csv',\n",
    "              'new york city': 'new_york_city.csv',\n",
    "              'washington': 'washington.csv' }\n",
    "\n",
    "MONTH_DATA =  ['january', 'february', 'march', 'april', 'may', 'june', 'all']\n",
    "\n",
    "DAY_DATA = ['sun', 'mon', 'tue', 'wed', 'thr', 'fri', 'sat', 'all']\n",
    "\n",
    "CITIES = list(CITY_DATA.keys())"
   ]
  },
  {
   "cell_type": "code",
   "execution_count": 13,
   "id": "128237aa",
   "metadata": {},
   "outputs": [
    {
     "data": {
      "text/plain": [
       "'chicago.csv'"
      ]
     },
     "execution_count": 13,
     "metadata": {},
     "output_type": "execute_result"
    }
   ],
   "source": [
    "CITY_DATA[\"chicago\"]"
   ]
  },
  {
   "cell_type": "markdown",
   "id": "38d1a5d2",
   "metadata": {},
   "source": [
    "### User Input"
   ]
  },
  {
   "cell_type": "code",
   "execution_count": 14,
   "id": "488104f5",
   "metadata": {},
   "outputs": [],
   "source": [
    "#def ask_input(input_name, input_list):\n",
    "\n",
    "#Filter Function\n",
    "\n",
    "def get_filters():\n",
    "    \"\"\"\n",
    "    Asks user to specify a city, month, and day to analyze.\n",
    "\n",
    "    Returns:\n",
    "        (str) city - name of the city to analyze\n",
    "        (str) month - name of the month to filter by, or \"all\" to apply no month filter\n",
    "        (str) day - name of the day of week to filter by, or \"all\" to apply no day filter\n",
    "    \"\"\"\n",
    "    print('Hello! Let\\'s explore some US bikeshare data!')\n",
    "    \n",
    "    #city = all\n",
    "    #month = all\n",
    "    #day = all\n",
    "    \n",
    "    # TO DO: get user input for city (chicago, new york city, washington). HINT: Use a while loop to handle invalid inputs\n",
    "\n",
    "    while True:\n",
    "        city_name = CITY_DATA \n",
    "        city = input(\"Insert the name of the city you want to analyse: chicago, new york city, washington\")\n",
    "        \n",
    "        if city in city_name:\n",
    "            print(city)\n",
    "            break\n",
    "        else:\n",
    "            print(\"Enter valid city name\")\n",
    "    \n",
    "\n",
    "    # TO DO: get user input for month (all, january, february, ... , june)\n",
    "    \n",
    "    while True:\n",
    "        month_name = MONTH_DATA\n",
    "        month = input(\"Insert the month: january, february, march, april, may, june \\nType all for all month\")\n",
    "        \n",
    "        if month in month_name:\n",
    "            print(month)\n",
    "            break\n",
    "        else:\n",
    "            print(\"Enter valid month\")\n",
    "\n",
    "    # TO DO: get user input for day of week (all, monday, tuesday, ... sunday)\n",
    "    \n",
    "    while True:\n",
    "        days_name = DAY_DATA\n",
    "        day = input(\"Insert the day: sun, mon, tue, wed, thr, fri, sat \\nType all for all days\")\n",
    "        \n",
    "        if day in days_name:\n",
    "            print(day)\n",
    "            break\n",
    "        else:\n",
    "            print(\"Enter valid day\")\n",
    "            \n",
    "    print('-'*40)\n",
    "    return city, month, day"
   ]
  },
  {
   "cell_type": "markdown",
   "id": "9a5f72e3",
   "metadata": {},
   "source": [
    "### Load Data"
   ]
  },
  {
   "cell_type": "code",
   "execution_count": 24,
   "id": "944a8d15",
   "metadata": {},
   "outputs": [],
   "source": [
    "def load_data(city, month, day):\n",
    "    \"\"\"\n",
    "    Loads data for the specified city and filters by month and day if applicable.\n",
    "\n",
    "    Args:\n",
    "        (str) city - name of the city to analyze\n",
    "        (str) month - name of the month to filter by, or \"None\" to apply no month filter\n",
    "        (str) day - name of the day of week to filter by, or \"None\" to apply no day filter\n",
    "    Returns:\n",
    "        df - Pandas DataFrame containing city data filtered by month and day\n",
    "    \"\"\"\n",
    "    \n",
    "    # load csv file into a dataframe\n",
    "    \n",
    "    df = pd.read_csv(CITY_DATA[city])\n",
    "    \n",
    "    df[\"Start Time\"] = pd.to_datetime(df[\"Start Time\"])\n",
    "\n",
    "    # extract hour, year, month and day of week from Start Time\n",
    "    \n",
    "    df[\"hour\"] = df[\"Start Time\"].dt.hour\n",
    "    df[\"day_of_week\"] = df[\"Start Time\"].dt.day_name()\n",
    "    df[\"month\"] = df[\"Start Time\"].dt.month\n",
    "    df[\"year\"] = df[\"Start Time\"].dt.year\n",
    "\n",
    "\n",
    "    # filter by month\n",
    "    \n",
    "    if month != 'all':\n",
    "        # use the index of the months list to get the corresponding int\n",
    "        months = ['january', 'february', 'march', 'april', 'may', 'june']\n",
    "        month = months.index(month) + 1\n",
    "\n",
    "        # filter by month to create the new dataframe\n",
    "        df = df[df['month'] == month]\n",
    "\n",
    "    # filter by day of week if applicable\n",
    "    if day != 'all':\n",
    "        # filter by day of week to create the new dataframe\n",
    "        df = df[df['day_of_week'] == day.title()]\n",
    "\n",
    "    return df"
   ]
  },
  {
   "cell_type": "markdown",
   "id": "08914e67",
   "metadata": {},
   "source": [
    "### Stats: Time"
   ]
  },
  {
   "cell_type": "code",
   "execution_count": 22,
   "id": "25361967",
   "metadata": {},
   "outputs": [],
   "source": [
    "def time_stats(df):\n",
    "    \"\"\"Displays statistics on the most frequent times of travel.\"\"\"\n",
    "\n",
    "    print('\\nCalculating The Most Frequent Times of Travel...\\n')\n",
    "    start_time = time.time()\n",
    "\n",
    "    # TO DO: display the most common month\n",
    "    if month == 'all':\n",
    "        common_month = df[\"month\"].mode()[0]\n",
    "        common_month = MONTH_DATA[common_month]\n",
    "        print(\"The most common month is\",common_month)\n",
    "\n",
    "    # TO DO: display the most common day of week\n",
    "    if day == 'all':\n",
    "        common_day_of_week = df[\"day_of_week\"].mode()[0]\n",
    "        common_day_of_week = DAY_DATA[common_day_of_week]\n",
    "        print(\"The most common day of week is\",common_day_of_week)\n",
    "\n",
    "    # TO DO: display the most common start hour\n",
    "    \n",
    "    df[\"Start Hour\"] = df[\"Start Time\"].dt.hour\n",
    "    common_hour = df[\"Start Hour\"].mode()[0]\n",
    "    print(\"The most common start hour is {} hrs\",common_hour)  \n",
    "\n",
    "\n",
    "    print(\"\\nThis took %s seconds.\" % (time.time() - start_time))\n",
    "    print('-'*40)"
   ]
  },
  {
   "cell_type": "markdown",
   "id": "fc0b5f81",
   "metadata": {},
   "source": [
    "### Stats: Trip_duration"
   ]
  },
  {
   "cell_type": "code",
   "execution_count": 17,
   "id": "c12c1a6e",
   "metadata": {},
   "outputs": [],
   "source": [
    "def trip_duration_stats(df):\n",
    "    \"\"\"Displays statistics on the total and average trip duration.\"\"\"\n",
    "\n",
    "    print('\\nCalculating Trip Duration...\\n')\n",
    "    start_time = time.time()\n",
    "\n",
    "    # TO DO: display total travel time\n",
    "    \n",
    "    total_travel = df[\"Trip Duration\"].sum()\n",
    "    print(\"The total travel time:\", total_travel)\n",
    "\n",
    "\n",
    "    # TO DO: display mean travel time\n",
    "    \n",
    "    mean_travel = df[\"Trip Duration\"].mean()\n",
    "    print(\"The mean travel time:\", mean_travel)\n",
    "\n",
    "\n",
    "    print(\"\\nThis took %s seconds.\" % (time.time() - start_time))\n",
    "    print('-'*40)"
   ]
  },
  {
   "cell_type": "markdown",
   "id": "41d775a2",
   "metadata": {},
   "source": [
    "### Stats: User"
   ]
  },
  {
   "cell_type": "code",
   "execution_count": 18,
   "id": "ba75c387",
   "metadata": {},
   "outputs": [],
   "source": [
    "def user_stats(df):\n",
    "    \"\"\"Displays statistics on bikeshare users.\"\"\"\n",
    "\n",
    "    print('\\nCalculating User Stats...\\n')\n",
    "    start_time = time.time()\n",
    "\n",
    "    # TO DO: Display counts of user types\n",
    "    \n",
    "    user_counts= df[\"User Type\"].value_counts()\n",
    "    print(\"The user types are:\",user_counts)\n",
    "\n",
    "    # TO DO: Display counts of gender\n",
    "    \n",
    "    if city == \"chicago.csv\" or city == \"new_york_city.csv\":\n",
    "        gender_counts= df[\"Gender\"].value_counts()\n",
    "        print(\"The counts of each gender are:\",gender_counts)\n",
    "\n",
    "    # TO DO: Display earliest, most recent, and most common year of birth\n",
    "    \n",
    "    earliest_birth = df[\"Birth Year\"].min()\n",
    "    most_recent_birth = df[\"Birth Year\"].max()\n",
    "    most_common_birth = df[\"Birth Year\"].mode()[0]\n",
    "    print(\"Earliest birth is:\", earliest_birth)\n",
    "    print(\"Most recent birth is:\", most_recent_birth)\n",
    "    print(\"Most common birth is:\", most_common_birth)\n",
    "    \n",
    "    print(\"\\nThis took %s seconds.\" % (time.time() - start_time))\n",
    "    print('-'*40)"
   ]
  },
  {
   "cell_type": "markdown",
   "id": "ab6153cd",
   "metadata": {},
   "source": [
    "### Program main()"
   ]
  },
  {
   "cell_type": "code",
   "execution_count": 23,
   "id": "354e454e",
   "metadata": {
    "scrolled": false
   },
   "outputs": [
    {
     "name": "stdout",
     "output_type": "stream",
     "text": [
      "Hello! Let's explore some US bikeshare data!\n",
      "Insert the name of the city you want to analyse: chicago, new york city, washingtonchicago\n",
      "chicago\n",
      "Insert the month: january, february, march, april, may, june \n",
      "Type all for all monthmarch\n",
      "march\n",
      "Insert the day: sun, mon, tue, wed, thr, fri, sat \n",
      "Type all for all dayssun\n",
      "sun\n",
      "----------------------------------------\n",
      "\n",
      "Calculating The Most Frequent Times of Travel...\n",
      "\n"
     ]
    },
    {
     "ename": "NameError",
     "evalue": "name 'month' is not defined",
     "output_type": "error",
     "traceback": [
      "\u001b[1;31m---------------------------------------------------------------------------\u001b[0m",
      "\u001b[1;31mNameError\u001b[0m                                 Traceback (most recent call last)",
      "Input \u001b[1;32mIn [23]\u001b[0m, in \u001b[0;36m<cell line: 16>\u001b[1;34m()\u001b[0m\n\u001b[0;32m     13\u001b[0m             \u001b[38;5;28;01mbreak\u001b[39;00m\n\u001b[0;32m     16\u001b[0m \u001b[38;5;28;01mif\u001b[39;00m \u001b[38;5;18m__name__\u001b[39m \u001b[38;5;241m==\u001b[39m \u001b[38;5;124m\"\u001b[39m\u001b[38;5;124m__main__\u001b[39m\u001b[38;5;124m\"\u001b[39m:\n\u001b[1;32m---> 17\u001b[0m \t\u001b[43mmain\u001b[49m\u001b[43m(\u001b[49m\u001b[43m)\u001b[49m\n",
      "Input \u001b[1;32mIn [23]\u001b[0m, in \u001b[0;36mmain\u001b[1;34m()\u001b[0m\n\u001b[0;32m      3\u001b[0m city, month, day \u001b[38;5;241m=\u001b[39m get_filters()\n\u001b[0;32m      4\u001b[0m df \u001b[38;5;241m=\u001b[39m load_data(city, month, day)\n\u001b[1;32m----> 6\u001b[0m \u001b[43mtime_stats\u001b[49m\u001b[43m(\u001b[49m\u001b[43mdf\u001b[49m\u001b[43m)\u001b[49m\n\u001b[0;32m      7\u001b[0m station_stats(df)\n\u001b[0;32m      8\u001b[0m trip_duration_stats(df)\n",
      "Input \u001b[1;32mIn [22]\u001b[0m, in \u001b[0;36mtime_stats\u001b[1;34m(df)\u001b[0m\n\u001b[0;32m      5\u001b[0m start_time \u001b[38;5;241m=\u001b[39m time\u001b[38;5;241m.\u001b[39mtime()\n\u001b[0;32m      7\u001b[0m \u001b[38;5;66;03m# TO DO: display the most common month\u001b[39;00m\n\u001b[1;32m----> 8\u001b[0m \u001b[38;5;28;01mif\u001b[39;00m \u001b[43mmonth\u001b[49m \u001b[38;5;241m==\u001b[39m \u001b[38;5;124m'\u001b[39m\u001b[38;5;124mall\u001b[39m\u001b[38;5;124m'\u001b[39m:\n\u001b[0;32m      9\u001b[0m     common_month \u001b[38;5;241m=\u001b[39m df[\u001b[38;5;124m\"\u001b[39m\u001b[38;5;124mmonth\u001b[39m\u001b[38;5;124m\"\u001b[39m]\u001b[38;5;241m.\u001b[39mmode()[\u001b[38;5;241m0\u001b[39m]\n\u001b[0;32m     10\u001b[0m     common_month \u001b[38;5;241m=\u001b[39m MONTH_DATA[common_month]\n",
      "\u001b[1;31mNameError\u001b[0m: name 'month' is not defined"
     ]
    }
   ],
   "source": [
    "def main():\n",
    "    while True:\n",
    "        city, month, day = get_filters()\n",
    "        df = load_data(city, month, day)\n",
    "\n",
    "        time_stats(df)\n",
    "        station_stats(df)\n",
    "        trip_duration_stats(df)\n",
    "        user_stats(df)\n",
    "\n",
    "        restart = input('\\nWould you like to restart? Enter yes or no.\\n')\n",
    "        if restart.lower() != 'yes':\n",
    "            break\n",
    "\n",
    "\n",
    "if __name__ == \"__main__\":\n",
    "\tmain()"
   ]
  },
  {
   "cell_type": "code",
   "execution_count": null,
   "id": "aeca69ae",
   "metadata": {},
   "outputs": [],
   "source": []
  },
  {
   "cell_type": "code",
   "execution_count": null,
   "id": "572d94e8",
   "metadata": {},
   "outputs": [],
   "source": []
  },
  {
   "cell_type": "code",
   "execution_count": null,
   "id": "92431322",
   "metadata": {},
   "outputs": [],
   "source": []
  },
  {
   "cell_type": "code",
   "execution_count": null,
   "id": "1217b4c4",
   "metadata": {},
   "outputs": [],
   "source": []
  }
 ],
 "metadata": {
  "kernelspec": {
   "display_name": "Python 3",
   "language": "python",
   "name": "python3"
  },
  "language_info": {
   "codemirror_mode": {
    "name": "ipython",
    "version": 3
   },
   "file_extension": ".py",
   "mimetype": "text/x-python",
   "name": "python",
   "nbconvert_exporter": "python",
   "pygments_lexer": "ipython3",
   "version": "3.9.12"
  }
 },
 "nbformat": 4,
 "nbformat_minor": 5
}
